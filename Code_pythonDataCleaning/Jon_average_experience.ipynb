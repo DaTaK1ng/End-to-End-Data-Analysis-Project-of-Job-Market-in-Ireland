{
 "cells": [
  {
   "cell_type": "code",
   "execution_count": 1,
   "id": "e1bf7154",
   "metadata": {},
   "outputs": [
    {
     "name": "stdout",
     "output_type": "stream",
     "text": [
      "平均工作经验计算完成：\n",
      "DA (数据分析师) 平均工作经验: 11.31 年\n",
      "DE (数据工程师) 平均工作经验: 2.83 年\n",
      "DS (数据科学家) 平均工作经验: 5.72 年\n",
      "\n",
      "结果已保存到: c:\\\\Users\\14987\\Desktop\\\\JobMarketIreland_dataAnalystProject\\datasets\\\\cleanedData\\Average_experience.csv\n"
     ]
    }
   ],
   "source": [
    "import pandas as pd\n",
    "import os\n",
    "\n",
    "# 文件路径\n",
    "da_file = r'c:\\\\Users\\14987\\Desktop\\\\JobMarketIreland_dataAnalystProject\\datasets\\\\raw\\DA_experience_skills.csv'\n",
    "de_file = r'c:\\\\Users\\14987\\Desktop\\\\JobMarketIreland_dataAnalystProject\\datasets\\\\raw\\DE_experience_skills.csv'\n",
    "ds_file = r'c:\\\\Users\\14987\\Desktop\\\\JobMarketIreland_dataAnalystProject\\datasets\\\\raw\\DS_experience_skills.csv'\n",
    "output_file = r'c:\\\\Users\\14987\\Desktop\\\\JobMarketIreland_dataAnalystProject\\datasets\\\\cleanedData\\Average_experience.csv'\n",
    "\n",
    "# 读取数据\n",
    "da_data = pd.read_csv(da_file)\n",
    "de_data = pd.read_csv(de_file)\n",
    "ds_data = pd.read_csv(ds_file)\n",
    "\n",
    "# 计算平均工作经验\n",
    "da_avg_experience = da_data['experience'].mean()\n",
    "de_avg_experience = de_data['experience'].mean()\n",
    "ds_avg_experience = ds_data['experience'].mean()\n",
    "\n",
    "# 创建结果DataFrame\n",
    "result_data = {\n",
    "    'Job_Type': ['DA', 'DE', 'DS'],\n",
    "    'Average_Experience': [da_avg_experience, de_avg_experience, ds_avg_experience]\n",
    "}\n",
    "\n",
    "result_df = pd.DataFrame(result_data)\n",
    "\n",
    "# 确保输出目录存在\n",
    "os.makedirs(os.path.dirname(output_file), exist_ok=True)\n",
    "\n",
    "# 保存结果\n",
    "result_df.to_csv(output_file, index=False)\n",
    "\n",
    "print(\"平均工作经验计算完成：\")\n",
    "print(f\"DA (数据分析师) 平均工作经验: {da_avg_experience:.2f} 年\")\n",
    "print(f\"DE (数据工程师) 平均工作经验: {de_avg_experience:.2f} 年\")\n",
    "print(f\"DS (数据科学家) 平均工作经验: {ds_avg_experience:.2f} 年\")\n",
    "print(f\"\\n结果已保存到: {output_file}\")"
   ]
  }
 ],
 "metadata": {
  "kernelspec": {
   "display_name": "Python 3",
   "language": "python",
   "name": "python3"
  },
  "language_info": {
   "codemirror_mode": {
    "name": "ipython",
    "version": 3
   },
   "file_extension": ".py",
   "mimetype": "text/x-python",
   "name": "python",
   "nbconvert_exporter": "python",
   "pygments_lexer": "ipython3",
   "version": "3.13.3"
  }
 },
 "nbformat": 4,
 "nbformat_minor": 5
}

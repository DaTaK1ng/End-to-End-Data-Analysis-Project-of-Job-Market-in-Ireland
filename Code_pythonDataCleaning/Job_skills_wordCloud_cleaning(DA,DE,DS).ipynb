{
 "cells": [
  {
   "cell_type": "code",
   "execution_count": 1,
   "id": "9543d8e8",
   "metadata": {},
   "outputs": [
    {
     "name": "stdout",
     "output_type": "stream",
     "text": [
      "Skills frequency analysis completed!\n"
     ]
    }
   ],
   "source": [
    "import pandas as pd\n",
    "from collections import Counter\n",
    "\n",
    "# Read data\n",
    "da_df = pd.read_csv('../datasets/raw/DA_experience_skills.csv')\n",
    "ds_df = pd.read_csv('../datasets/raw/DS_experience_skills.csv')\n",
    "de_df = pd.read_csv('../datasets/raw/DE_experience_skills.csv')\n",
    "\n",
    "# Function to count skills\n",
    "def count_skills(df):\n",
    "    all_skills = []\n",
    "    for skills in df['skills'].dropna():\n",
    "        all_skills.extend([skill.strip() for skill in skills.split(',')])\n",
    "    return Counter(all_skills)\n",
    "\n",
    "# Count skills for each dataset\n",
    "da_skills = count_skills(da_df)\n",
    "ds_skills = count_skills(ds_df)\n",
    "de_skills = count_skills(de_df)\n",
    "\n",
    "# Create frequency tables\n",
    "da_freq = pd.DataFrame(list(da_skills.items()), columns=['Skill', 'Frequency']).sort_values('Frequency', ascending=False)\n",
    "ds_freq = pd.DataFrame(list(ds_skills.items()), columns=['Skill', 'Frequency']).sort_values('Frequency', ascending=False)\n",
    "de_freq = pd.DataFrame(list(de_skills.items()), columns=['Skill', 'Frequency']).sort_values('Frequency', ascending=False)\n",
    "\n",
    "# Save to CSV\n",
    "da_freq.to_csv('../datasets/cleanedData/DA_skills_frequency.csv', index=False)\n",
    "ds_freq.to_csv('../datasets/cleanedData/DS_skills_frequency.csv', index=False)\n",
    "de_freq.to_csv('../datasets/cleanedData/DE_skills_frequency.csv', index=False)\n",
    "\n",
    "print(\"Skills frequency analysis completed!\")"
   ]
  }
 ],
 "metadata": {
  "kernelspec": {
   "display_name": "Python 3",
   "language": "python",
   "name": "python3"
  },
  "language_info": {
   "codemirror_mode": {
    "name": "ipython",
    "version": 3
   },
   "file_extension": ".py",
   "mimetype": "text/x-python",
   "name": "python",
   "nbconvert_exporter": "python",
   "pygments_lexer": "ipython3",
   "version": "3.13.3"
  }
 },
 "nbformat": 4,
 "nbformat_minor": 5
}
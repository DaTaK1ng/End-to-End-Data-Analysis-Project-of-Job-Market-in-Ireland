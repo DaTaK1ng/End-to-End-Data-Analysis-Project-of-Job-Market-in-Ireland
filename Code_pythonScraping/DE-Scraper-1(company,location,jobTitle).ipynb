{
 "cells": [
  {
   "cell_type": "code",
   "execution_count": 1,
   "id": "901a9e5f",
   "metadata": {},
   "outputs": [],
   "source": [
    "# import labraries\n",
    "from selenium.webdriver.common.by import By\n",
    "from selenium.webdriver.common.keys import Keys\n",
    "import time\n",
    "import pandas as pd\n",
    "from selenium.webdriver.chrome.options import Options\n",
    "from selenium.webdriver.chrome.service import Service\n",
    "from selenium import webdriver\n",
    "import os"
   ]
  },
  {
   "cell_type": "code",
   "execution_count": 2,
   "id": "5bc73a72",
   "metadata": {},
   "outputs": [],
   "source": [
    "# set up chrome driver\n",
    "options = Options()\n",
    "options.add_argument('--start-maximized')\n",
    "options.add_experimental_option('excludeSwitches', ['enable-automation'])\n",
    "options.add_experimental_option('useAutomationExtension', False)\n",
    "options.add_argument('--disable-blink-features=AutomationControlled')"
   ]
  },
  {
   "cell_type": "code",
   "execution_count": 3,
   "id": "224e5fa4",
   "metadata": {},
   "outputs": [],
   "source": [
    "service = Service(\"..\\\\chromedriver-win64\\\\chromedriver.exe\")\n",
    "browser = webdriver.Chrome(service=service, options=options)"
   ]
  },
  {
   "cell_type": "code",
   "execution_count": 4,
   "id": "4f1bcfa9",
   "metadata": {},
   "outputs": [],
   "source": [
    "# Go to the job detail page\n",
    "\n",
    "browser.get('https://www.irishjobs.ie/jobs/data-engineer?searchOrigin=Resultlist_top-search')\n",
    "time.sleep(3) "
   ]
  },
  {
   "cell_type": "code",
   "execution_count": 6,
   "id": "14f669a0",
   "metadata": {},
   "outputs": [
    {
     "name": "stdout",
     "output_type": "stream",
     "text": [
      "job_cards length: 15\n",
      "data of this page is saved, total 15 jobs\n",
      "file location: c:\\\\Users\\\\14987\\\\Desktop\\\\JobMarketIreland_dataAnalystProject\\\\datasets\\\\raw\\DE_job_data.csv\n"
     ]
    }
   ],
   "source": [
    "# get different types of data\n",
    "job_list = []\n",
    "job_cards = browser.find_elements(By.CSS_SELECTOR, 'article.res-4cwuay')\n",
    "\n",
    "print ('job_cards length:', len(job_cards))\n",
    "\n",
    "for card in job_cards:\n",
    "    # get job title\n",
    "    job_title = card.find_elements(By.CSS_SELECTOR, 'article.res-4cwuay div.res-kyg8or div.res-ewgtgq')\n",
    "    \n",
    "    # get location\n",
    "    job_location = card.find_elements(By.CSS_SELECTOR, 'article.res-4cwuay div.res-12jlzgf span.res-du9bhi')\n",
    "\n",
    "    # get company name\n",
    "    job_company = card.find_elements(By.CSS_SELECTOR, 'article.res-4cwuay div.res-ewgtgq span.res-m4bz2a span.res-du9bhi')\n",
    "    \n",
    "    # put data in job_list\n",
    "    job_list.append({\n",
    "        'ID': len(job_list) + 1,\n",
    "        'company': job_company[0].text if job_company else 'N/A',\n",
    "        'job_title': job_title[0].text if job_title else 'N/A',\n",
    "        'job_location': job_location[0].text if job_location else 'N/A'\n",
    "    })\n",
    "\n",
    "\n",
    "\n",
    "\n",
    "if job_list:\n",
    "    df = pd.DataFrame(job_list)\n",
    "    output_dir = r'c:\\\\Users\\\\14987\\\\Desktop\\\\JobMarketIreland_dataAnalystProject\\\\datasets\\\\raw'\n",
    "    os.makedirs(output_dir, exist_ok=True)\n",
    "    output_file = os.path.join(output_dir, 'DE_job_data.csv')\n",
    "    \n",
    "    file_exists = os.path.exists(output_file)\n",
    "    df.to_csv(output_file, mode='a', header=not file_exists, index=False, encoding='utf-8-sig')\n",
    "    \n",
    "    print(f'data of this page is saved, total {len(job_list)} jobs')\n",
    "    print(f'file location: {output_file}')\n",
    "else:\n",
    "    print('not found any job')\n"
   ]
  },
  {
   "cell_type": "code",
   "execution_count": 7,
   "id": "be48eaa1",
   "metadata": {},
   "outputs": [],
   "source": [
    "browser.quit()"
   ]
  }
 ],
 "metadata": {
  "kernelspec": {
   "display_name": "Python 3",
   "language": "python",
   "name": "python3"
  },
  "language_info": {
   "codemirror_mode": {
    "name": "ipython",
    "version": 3
   },
   "file_extension": ".py",
   "mimetype": "text/x-python",
   "name": "python",
   "nbconvert_exporter": "python",
   "pygments_lexer": "ipython3",
   "version": "3.13.3"
  }
 },
 "nbformat": 4,
 "nbformat_minor": 5
}
